{
  "nbformat": 4,
  "nbformat_minor": 5,
  "metadata": {
    "kernelspec": {
      "display_name": "Python 3",
      "language": "python",
      "name": "python3"
    },
    "language_info": {
      "codemirror_mode": {
        "name": "ipython",
        "version": 3
      },
      "file_extension": ".py",
      "mimetype": "text/x-python",
      "name": "python",
      "nbconvert_exporter": "python",
      "pygments_lexer": "ipython3",
      "version": "3.7.6"
    },
    "colab": {
      "name": "Pokemon WebScraping.ipynb",
      "provenance": [],
      "collapsed_sections": [
        "naked-yahoo",
        "featured-tenant",
        "liable-anger",
        "upper-flooring"
      ],
      "toc_visible": true
    }
  },
  "cells": [
    {
      "cell_type": "markdown",
      "metadata": {
        "id": "retained-caution"
      },
      "source": [
        "# Getting data directly from a website\n",
        "This notebook walks you through some steps in collecting data from [Bulbapedia's National Pokedex](https://bulbapedia.bulbagarden.net/wiki/List_of_Pok%C3%A9mon_by_National_Pok%C3%A9dex_number) using `requests` and `BeautifulSoup`"
      ],
      "id": "retained-caution"
    },
    {
      "cell_type": "markdown",
      "metadata": {
        "id": "naked-yahoo"
      },
      "source": [
        "### Import `requests` library\n",
        "This package allows you to get any website's HTML code so that you can extract from it. Let's save the website's URL in the `URL` variable."
      ],
      "id": "naked-yahoo"
    },
    {
      "cell_type": "code",
      "metadata": {
        "id": "acting-exhibit"
      },
      "source": [
        "import requests\n",
        "import json\n",
        "\n",
        "URL=\"https://bulbapedia.bulbagarden.net/wiki/List_of_Pok%C3%A9mon_by_National_Pok%C3%A9dex_number\""
      ],
      "id": "acting-exhibit",
      "execution_count": null,
      "outputs": []
    },
    {
      "cell_type": "markdown",
      "metadata": {
        "id": "palestinian-feedback"
      },
      "source": [
        "### Load the page"
      ],
      "id": "palestinian-feedback"
    },
    {
      "cell_type": "code",
      "metadata": {
        "id": "fancy-representation"
      },
      "source": [
        "page=requests.get(URL)"
      ],
      "id": "fancy-representation",
      "execution_count": null,
      "outputs": []
    },
    {
      "cell_type": "markdown",
      "metadata": {
        "id": "featured-tenant"
      },
      "source": [
        "### Parse HTML data"
      ],
      "id": "featured-tenant"
    },
    {
      "cell_type": "code",
      "metadata": {
        "id": "skilled-ordinary"
      },
      "source": [
        "from bs4 import BeautifulSoup\n",
        "\n",
        "soup = BeautifulSoup(page.content, 'html.parser')"
      ],
      "id": "skilled-ordinary",
      "execution_count": null,
      "outputs": []
    },
    {
      "cell_type": "markdown",
      "metadata": {
        "id": "liable-anger"
      },
      "source": [
        "### Find all tables that contain Pokemon details"
      ],
      "id": "liable-anger"
    },
    {
      "cell_type": "code",
      "metadata": {
        "id": "returning-alcohol"
      },
      "source": [
        "# Get main content <div>\n",
        "poke_content=soup.find(id='mw-content-text')\n",
        "\n",
        "# Get all <table> elements\n",
        "poke_tables=poke_content.find_all('table')"
      ],
      "id": "returning-alcohol",
      "execution_count": null,
      "outputs": []
    },
    {
      "cell_type": "markdown",
      "metadata": {
        "id": "upper-flooring"
      },
      "source": [
        "### Get list of All Generation Pokemons"
      ],
      "id": "upper-flooring"
    },
    {
      "cell_type": "code",
      "metadata": {
        "id": "broadband-corporation"
      },
      "source": [
        "gen1_list=poke_tables[1]\r\n",
        "gen2_list=poke_tables[2]\r\n",
        "gen3_list=poke_tables[3]\r\n",
        "gen4_list=poke_tables[4]\r\n",
        "gen5_list=poke_tables[5]\r\n",
        "gen6_list=poke_tables[6]\r\n",
        "gen7_list=poke_tables[7]\r\n",
        "gen8_list=poke_tables[8]"
      ],
      "id": "broadband-corporation",
      "execution_count": null,
      "outputs": []
    },
    {
      "cell_type": "markdown",
      "metadata": {
        "id": "outer-progressive"
      },
      "source": [
        "### Save dataset in a JSON"
      ],
      "id": "outer-progressive"
    },
    {
      "cell_type": "markdown",
      "metadata": {
        "id": "2jpE1CHLEm0s"
      },
      "source": [
        "Generation 1 Pokemons"
      ],
      "id": "2jpE1CHLEm0s"
    },
    {
      "cell_type": "code",
      "metadata": {
        "id": "minute-property"
      },
      "source": [
        "gen_json = []\n",
        "\n",
        "current_gen = gen1_list.contents\n",
        "\n",
        "for i in range(3, len(current_gen), 2):\n",
        "    poke_info=current_gen[i]\n",
        "    kdex=poke_info.contents[1].text.strip()\n",
        "    ndex=poke_info.contents[3].text.strip()\n",
        "    name=poke_info.contents[7].text.strip()\n",
        "\n",
        "    row=poke_info.contents[7]\n",
        "    url=row.find(\"a\", href=True)[\"href\"]\n",
        "    base=\"https://bulbapedia.bulbagarden.net\"\n",
        "    url=base+url\n",
        "\n",
        "    type1=poke_info.contents[9].text.strip()\n",
        "\n",
        "    if len(poke_info.contents) > 10:\n",
        "        type2=poke_info.contents[11].text.strip()\n",
        "        gen_json.append({\n",
        "            \"kdex\": kdex,\n",
        "            \"ndex\": ndex,\n",
        "            \"name\": name, \n",
        "            \"type1\": type1,\n",
        "            \"type2\": type2,\n",
        "            \"url\": url\n",
        "        })\n",
        "    else:\n",
        "        gen_json.append({\n",
        "            \"kdex\": kdex,\n",
        "            \"ndex\": ndex,\n",
        "            \"name\": name,\n",
        "            \"type1\": type1,\n",
        "            \"url\": url\n",
        "        })\n",
        "        \n",
        "gen_json\n",
        "\n",
        "\n",
        "with open('gen1.json', 'w') as outfile:\n",
        "    json.dump(gen_json, outfile)"
      ],
      "id": "minute-property",
      "execution_count": null,
      "outputs": []
    },
    {
      "cell_type": "markdown",
      "metadata": {
        "id": "e3v05kmTEunf"
      },
      "source": [
        "Generation 2 Pokemon"
      ],
      "id": "e3v05kmTEunf"
    },
    {
      "cell_type": "code",
      "metadata": {
        "id": "KmfT8HzKEv62"
      },
      "source": [
        "gen_json = []\r\n",
        "\r\n",
        "current_gen = gen2_list.contents\r\n",
        "\r\n",
        "for i in range(3, len(current_gen), 2):\r\n",
        "    poke_info=current_gen[i]\r\n",
        "    jdex=poke_info.contents[1].text.strip()\r\n",
        "    ndex=poke_info.contents[3].text.strip()\r\n",
        "    name=poke_info.contents[7].text.strip()\r\n",
        "\r\n",
        "    row=poke_info.contents[7]\r\n",
        "    url=row.find(\"a\", href=True)[\"href\"]\r\n",
        "    base=\"https://bulbapedia.bulbagarden.net\"\r\n",
        "    url=base+url\r\n",
        "\r\n",
        "    type1=poke_info.contents[9].text.strip()\r\n",
        "\r\n",
        "    if len(poke_info.contents) > 10:\r\n",
        "        type2=poke_info.contents[11].text.strip()\r\n",
        "        gen_json.append({\r\n",
        "            \"jdex\": jdex,\r\n",
        "            \"ndex\": ndex,\r\n",
        "            \"name\": name, \r\n",
        "            \"type1\": type1,\r\n",
        "            \"type2\": type2,\r\n",
        "            \"url\": url\r\n",
        "        })\r\n",
        "    else:\r\n",
        "        gen_json.append({\r\n",
        "            \"jdex\": jdex,\r\n",
        "            \"ndex\": ndex,\r\n",
        "            \"name\": name,\r\n",
        "            \"type1\": type1,\r\n",
        "            \"url\": url\r\n",
        "        })\r\n",
        "        \r\n",
        "gen_json\r\n",
        "\r\n",
        "\r\n",
        "with open('gen2.json', 'w') as outfile:\r\n",
        "    json.dump(gen_json, outfile)"
      ],
      "id": "KmfT8HzKEv62",
      "execution_count": null,
      "outputs": []
    },
    {
      "cell_type": "markdown",
      "metadata": {
        "id": "9f63XtvlEwic"
      },
      "source": [
        "Generation 3 Pokemon"
      ],
      "id": "9f63XtvlEwic"
    },
    {
      "cell_type": "code",
      "metadata": {
        "id": "ndVIz6SzEx35"
      },
      "source": [
        "gen_json = []\r\n",
        "\r\n",
        "current_gen = gen3_list.contents\r\n",
        "\r\n",
        "for i in range(3, len(current_gen), 2):\r\n",
        "    poke_info=current_gen[i]\r\n",
        "    hdex=poke_info.contents[1].text.strip()\r\n",
        "    ndex=poke_info.contents[3].text.strip()\r\n",
        "    name=poke_info.contents[7].text.strip()\r\n",
        "\r\n",
        "    row=poke_info.contents[7]\r\n",
        "    url=row.find(\"a\", href=True)[\"href\"]\r\n",
        "    base=\"https://bulbapedia.bulbagarden.net\"\r\n",
        "    url=base+url\r\n",
        "\r\n",
        "    type1=poke_info.contents[9].text.strip()\r\n",
        "\r\n",
        "    if len(poke_info.contents) > 10:\r\n",
        "        type2=poke_info.contents[11].text.strip()\r\n",
        "        gen_json.append({\r\n",
        "            \"hdex\": hdex,\r\n",
        "            \"ndex\": ndex,\r\n",
        "            \"name\": name, \r\n",
        "            \"type1\": type1,\r\n",
        "            \"type2\": type2,\r\n",
        "            \"url\": url\r\n",
        "        })\r\n",
        "    else:\r\n",
        "        gen_json.append({\r\n",
        "            \"hdex\": hdex,\r\n",
        "            \"ndex\": ndex,\r\n",
        "            \"name\": name,\r\n",
        "            \"type1\": type1,\r\n",
        "            \"url\": url\r\n",
        "        })\r\n",
        "        \r\n",
        "gen_json\r\n",
        "\r\n",
        "\r\n",
        "with open('gen3.json', 'w') as outfile:\r\n",
        "    json.dump(gen_json, outfile)"
      ],
      "id": "ndVIz6SzEx35",
      "execution_count": null,
      "outputs": []
    },
    {
      "cell_type": "markdown",
      "metadata": {
        "id": "mXST0AGqEyFj"
      },
      "source": [
        "Generation 4 Pokemon"
      ],
      "id": "mXST0AGqEyFj"
    },
    {
      "cell_type": "code",
      "metadata": {
        "id": "GCrUKhCFE0bd"
      },
      "source": [
        "gen_json = []\r\n",
        "\r\n",
        "current_gen = gen4_list.contents\r\n",
        "\r\n",
        "for i in range(3, len(current_gen), 2):\r\n",
        "    poke_info=current_gen[i]\r\n",
        "    sdex=poke_info.contents[1].text.strip()\r\n",
        "    ndex=poke_info.contents[3].text.strip()\r\n",
        "    name=poke_info.contents[7].text.strip()\r\n",
        "\r\n",
        "    row=poke_info.contents[7]\r\n",
        "    url=row.find(\"a\", href=True)[\"href\"]\r\n",
        "    base=\"https://bulbapedia.bulbagarden.net\"\r\n",
        "    url=base+url\r\n",
        "\r\n",
        "    type1=poke_info.contents[9].text.strip()\r\n",
        "\r\n",
        "    if len(poke_info.contents) > 10:\r\n",
        "        type2=poke_info.contents[11].text.strip()\r\n",
        "        gen_json.append({\r\n",
        "            \"sdex\": sdex,\r\n",
        "            \"ndex\": ndex,\r\n",
        "            \"name\": name, \r\n",
        "            \"type1\": type1,\r\n",
        "            \"type2\": type2,\r\n",
        "            \"url\": url\r\n",
        "        })\r\n",
        "    else:\r\n",
        "        gen_json.append({\r\n",
        "            \"sdex\": sdex,\r\n",
        "            \"ndex\": ndex,\r\n",
        "            \"name\": name,\r\n",
        "            \"type1\": type1,\r\n",
        "            \"url\": url\r\n",
        "        })\r\n",
        "        \r\n",
        "gen_json\r\n",
        "\r\n",
        "\r\n",
        "with open('gen4.json', 'w') as outfile:\r\n",
        "    json.dump(gen_json, outfile)"
      ],
      "id": "GCrUKhCFE0bd",
      "execution_count": null,
      "outputs": []
    },
    {
      "cell_type": "markdown",
      "metadata": {
        "id": "jiV0lxXDE0md"
      },
      "source": [
        "Generation 5 Pokemon"
      ],
      "id": "jiV0lxXDE0md"
    },
    {
      "cell_type": "code",
      "metadata": {
        "id": "sZLUgI70E1AD"
      },
      "source": [
        "gen_json = []\r\n",
        "\r\n",
        "current_gen = gen5_list.contents\r\n",
        "\r\n",
        "for i in range(3, len(current_gen), 2):\r\n",
        "    poke_info=current_gen[i]\r\n",
        "    udex=poke_info.contents[1].text.strip()\r\n",
        "    ndex=poke_info.contents[3].text.strip()\r\n",
        "    name=poke_info.contents[7].text.strip()\r\n",
        "\r\n",
        "    row=poke_info.contents[7]\r\n",
        "    url=row.find(\"a\", href=True)[\"href\"]\r\n",
        "    base=\"https://bulbapedia.bulbagarden.net\"\r\n",
        "    url=base+url\r\n",
        "\r\n",
        "    type1=poke_info.contents[9].text.strip()\r\n",
        "\r\n",
        "    if len(poke_info.contents) > 10:\r\n",
        "        type2=poke_info.contents[11].text.strip()\r\n",
        "        gen_json.append({\r\n",
        "            \"udex\": udex,\r\n",
        "            \"ndex\": ndex,\r\n",
        "            \"name\": name, \r\n",
        "            \"type1\": type1,\r\n",
        "            \"type2\": type2,\r\n",
        "            \"url\": url\r\n",
        "        })\r\n",
        "    else:\r\n",
        "        gen_json.append({\r\n",
        "            \"udex\": udex,\r\n",
        "            \"ndex\": ndex,\r\n",
        "            \"name\": name,\r\n",
        "            \"type1\": type1,\r\n",
        "            \"url\": url\r\n",
        "        })\r\n",
        "        \r\n",
        "gen_json\r\n",
        "\r\n",
        "\r\n",
        "with open('gen5.json', 'w') as outfile:\r\n",
        "    json.dump(gen_json, outfile)"
      ],
      "id": "sZLUgI70E1AD",
      "execution_count": null,
      "outputs": []
    },
    {
      "cell_type": "markdown",
      "metadata": {
        "id": "m-yxygyZE1R2"
      },
      "source": [
        "Generation 6 Pokemon"
      ],
      "id": "m-yxygyZE1R2"
    },
    {
      "cell_type": "code",
      "metadata": {
        "id": "mC2_AEnzE14K"
      },
      "source": [
        "gen_json = []\r\n",
        "\r\n",
        "current_gen = gen6_list.contents\r\n",
        "\r\n",
        "for i in range(3, len(current_gen), 2):\r\n",
        "    poke_info=current_gen[i]\r\n",
        "    kdex=poke_info.contents[1].text.strip()\r\n",
        "    ndex=poke_info.contents[3].text.strip()\r\n",
        "    name=poke_info.contents[7].text.strip()\r\n",
        "\r\n",
        "    row=poke_info.contents[7]\r\n",
        "    url=row.find(\"a\", href=True)[\"href\"]\r\n",
        "    base=\"https://bulbapedia.bulbagarden.net\"\r\n",
        "    url=base+url\r\n",
        "\r\n",
        "    type1=poke_info.contents[9].text.strip()\r\n",
        "\r\n",
        "    if len(poke_info.contents) > 10:\r\n",
        "        type2=poke_info.contents[11].text.strip()\r\n",
        "        gen_json.append({\r\n",
        "            \"kdex\": kdex,\r\n",
        "            \"ndex\": ndex,\r\n",
        "            \"name\": name, \r\n",
        "            \"type1\": type1,\r\n",
        "            \"type2\": type2,\r\n",
        "            \"url\": url\r\n",
        "        })\r\n",
        "    else:\r\n",
        "        gen_json.append({\r\n",
        "            \"kdex\": kdex,\r\n",
        "            \"ndex\": ndex,\r\n",
        "            \"name\": name,\r\n",
        "            \"type1\": type1,\r\n",
        "            \"url\": url\r\n",
        "        })\r\n",
        "        \r\n",
        "gen_json\r\n",
        "\r\n",
        "\r\n",
        "with open('gen6.json', 'w') as outfile:\r\n",
        "    json.dump(gen_json, outfile)"
      ],
      "id": "mC2_AEnzE14K",
      "execution_count": null,
      "outputs": []
    },
    {
      "cell_type": "markdown",
      "metadata": {
        "id": "x_Z352HoE2Da"
      },
      "source": [
        "Generation 7 *Pokemon*"
      ],
      "id": "x_Z352HoE2Da"
    },
    {
      "cell_type": "code",
      "metadata": {
        "id": "NI09VbiME2ds"
      },
      "source": [
        "gen_json = []\r\n",
        "\r\n",
        "current_gen = gen7_list.contents\r\n",
        "\r\n",
        "for i in range(3, len(current_gen), 2):\r\n",
        "    poke_info=current_gen[i]\r\n",
        "    adex=poke_info.contents[1].text.strip()\r\n",
        "    ndex=poke_info.contents[3].text.strip()\r\n",
        "    name=poke_info.contents[7].text.strip()\r\n",
        "\r\n",
        "    row=poke_info.contents[7]\r\n",
        "    url=row.find(\"a\", href=True)[\"href\"]\r\n",
        "    base=\"https://bulbapedia.bulbagarden.net\"\r\n",
        "    url=base+url\r\n",
        "\r\n",
        "    type1=poke_info.contents[9].text.strip()\r\n",
        "\r\n",
        "    if len(poke_info.contents) > 10:\r\n",
        "        type2=poke_info.contents[11].text.strip()\r\n",
        "        gen_json.append({\r\n",
        "            \"adex\": adex,\r\n",
        "            \"ndex\": ndex,\r\n",
        "            \"name\": name, \r\n",
        "            \"type1\": type1,\r\n",
        "            \"type2\": type2,\r\n",
        "            \"url\": url\r\n",
        "        })\r\n",
        "    else:\r\n",
        "        gen_json.append({\r\n",
        "            \"adex\": adex,\r\n",
        "            \"ndex\": ndex,\r\n",
        "            \"name\": name,\r\n",
        "            \"type1\": type1,\r\n",
        "            \"url\": url\r\n",
        "        })\r\n",
        "        \r\n",
        "gen_json\r\n",
        "\r\n",
        "\r\n",
        "with open('gen7.json', 'w') as outfile:\r\n",
        "    json.dump(gen_json, outfile)"
      ],
      "id": "NI09VbiME2ds",
      "execution_count": null,
      "outputs": []
    },
    {
      "cell_type": "markdown",
      "metadata": {
        "id": "GuGeMdXEE2xl"
      },
      "source": [
        "Generation 8 Pokemon"
      ],
      "id": "GuGeMdXEE2xl"
    },
    {
      "cell_type": "code",
      "metadata": {
        "id": "p7GqaVZLE3Po"
      },
      "source": [
        "gen_json = []\r\n",
        "\r\n",
        "current_gen = gen8_list.contents\r\n",
        "\r\n",
        "for i in range(3, len(current_gen), 2):\r\n",
        "    poke_info=current_gen[i]\r\n",
        "    gdex=poke_info.contents[1].text.strip()\r\n",
        "    ndex=poke_info.contents[3].text.strip()\r\n",
        "    name=poke_info.contents[7].text.strip()\r\n",
        "\r\n",
        "    row=poke_info.contents[7]\r\n",
        "    url=row.find(\"a\", href=True)[\"href\"]\r\n",
        "    base=\"https://bulbapedia.bulbagarden.net\"\r\n",
        "    url=base+url\r\n",
        "\r\n",
        "    type1=poke_info.contents[9].text.strip()\r\n",
        "\r\n",
        "    if len(poke_info.contents) > 10:\r\n",
        "        type2=poke_info.contents[11].text.strip()\r\n",
        "        gen_json.append({\r\n",
        "            \"gdex\": gdex,\r\n",
        "            \"ndex\": ndex,\r\n",
        "            \"name\": name, \r\n",
        "            \"type1\": type1,\r\n",
        "            \"type2\": type2,\r\n",
        "            \"url\": url\r\n",
        "        })\r\n",
        "    else:\r\n",
        "        gen_json.append({\r\n",
        "            \"gdex\": gdex,\r\n",
        "            \"ndex\": ndex,\r\n",
        "            \"name\": name,\r\n",
        "            \"type1\": type1,\r\n",
        "            \"url\": url\r\n",
        "        })\r\n",
        "        \r\n",
        "gen_json\r\n",
        "\r\n",
        "\r\n",
        "with open('gen8.json', 'w') as outfile:\r\n",
        "    json.dump(gen_json, outfile)"
      ],
      "id": "p7GqaVZLE3Po",
      "execution_count": null,
      "outputs": []
    }
  ]
}